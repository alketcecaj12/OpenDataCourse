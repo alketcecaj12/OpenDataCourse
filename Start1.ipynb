{
 "cells": [
  {
   "cell_type": "code",
   "execution_count": 15,
   "id": "7bfb4915-7c83-4a9f-bc09-7cabe04ad2d1",
   "metadata": {},
   "outputs": [],
   "source": [
    "import pandas as pd"
   ]
  },
  {
   "cell_type": "code",
   "execution_count": 21,
   "id": "48db3a0c-9135-4676-ae27-35c88cd62d66",
   "metadata": {},
   "outputs": [],
   "source": [
    "nomi = ['Alket', 'Simone', 'Francesco', 'Paolo', 'Anna', 'Aurora']\n",
    "score = [200,     300,      150,        250, 300, 400]\n",
    "genre = ['male', 'male', 'male', 'male', 'female', 'female']"
   ]
  },
  {
   "cell_type": "code",
   "execution_count": 22,
   "id": "21a2f292-e5c5-47a2-8c08-e72080492bdf",
   "metadata": {},
   "outputs": [],
   "source": [
    "giochi = {\"nome\":nomi, \"punti\": score, 'sex':genre}"
   ]
  },
  {
   "cell_type": "code",
   "execution_count": 23,
   "id": "d007ad0d-9e75-4518-9852-9ddce9f55a85",
   "metadata": {},
   "outputs": [
    {
     "data": {
      "text/plain": [
       "['Alket', 'Simone', 'Francesco', 'Paolo', 'Anna', 'Aurora']"
      ]
     },
     "execution_count": 23,
     "metadata": {},
     "output_type": "execute_result"
    }
   ],
   "source": [
    "giochi[\"nome\"]"
   ]
  },
  {
   "cell_type": "code",
   "execution_count": 24,
   "id": "be37cf64-cd9d-48de-ac13-a9e92aa1a38f",
   "metadata": {},
   "outputs": [],
   "source": [
    "dati = pd.DataFrame(giochi)"
   ]
  },
  {
   "cell_type": "code",
   "execution_count": 32,
   "id": "9e3c63c0-202d-44a8-804d-470eaf896500",
   "metadata": {},
   "outputs": [
    {
     "data": {
      "text/plain": [
       "pandas.core.frame.DataFrame"
      ]
     },
     "execution_count": 32,
     "metadata": {},
     "output_type": "execute_result"
    }
   ],
   "source": [
    "type(dati)"
   ]
  },
  {
   "cell_type": "code",
   "execution_count": 25,
   "id": "9c7401c0-b632-4c4c-89e3-3c08418b7923",
   "metadata": {},
   "outputs": [
    {
     "data": {
      "text/html": [
       "<div>\n",
       "<style scoped>\n",
       "    .dataframe tbody tr th:only-of-type {\n",
       "        vertical-align: middle;\n",
       "    }\n",
       "\n",
       "    .dataframe tbody tr th {\n",
       "        vertical-align: top;\n",
       "    }\n",
       "\n",
       "    .dataframe thead th {\n",
       "        text-align: right;\n",
       "    }\n",
       "</style>\n",
       "<table border=\"1\" class=\"dataframe\">\n",
       "  <thead>\n",
       "    <tr style=\"text-align: right;\">\n",
       "      <th></th>\n",
       "      <th>nome</th>\n",
       "      <th>punti</th>\n",
       "      <th>sex</th>\n",
       "    </tr>\n",
       "  </thead>\n",
       "  <tbody>\n",
       "    <tr>\n",
       "      <th>0</th>\n",
       "      <td>Alket</td>\n",
       "      <td>200</td>\n",
       "      <td>male</td>\n",
       "    </tr>\n",
       "    <tr>\n",
       "      <th>1</th>\n",
       "      <td>Simone</td>\n",
       "      <td>300</td>\n",
       "      <td>male</td>\n",
       "    </tr>\n",
       "    <tr>\n",
       "      <th>2</th>\n",
       "      <td>Francesco</td>\n",
       "      <td>150</td>\n",
       "      <td>male</td>\n",
       "    </tr>\n",
       "    <tr>\n",
       "      <th>3</th>\n",
       "      <td>Paolo</td>\n",
       "      <td>250</td>\n",
       "      <td>male</td>\n",
       "    </tr>\n",
       "    <tr>\n",
       "      <th>4</th>\n",
       "      <td>Anna</td>\n",
       "      <td>300</td>\n",
       "      <td>female</td>\n",
       "    </tr>\n",
       "    <tr>\n",
       "      <th>5</th>\n",
       "      <td>Aurora</td>\n",
       "      <td>400</td>\n",
       "      <td>female</td>\n",
       "    </tr>\n",
       "  </tbody>\n",
       "</table>\n",
       "</div>"
      ],
      "text/plain": [
       "        nome  punti     sex\n",
       "0      Alket    200    male\n",
       "1     Simone    300    male\n",
       "2  Francesco    150    male\n",
       "3      Paolo    250    male\n",
       "4       Anna    300  female\n",
       "5     Aurora    400  female"
      ]
     },
     "execution_count": 25,
     "metadata": {},
     "output_type": "execute_result"
    }
   ],
   "source": [
    "dati"
   ]
  },
  {
   "cell_type": "code",
   "execution_count": 30,
   "id": "f2a2d1ea-e980-42cd-a1f8-8f53c1d1a915",
   "metadata": {},
   "outputs": [],
   "source": [
    "s = dati['punti']"
   ]
  },
  {
   "cell_type": "code",
   "execution_count": 31,
   "id": "2b375674-6d9e-4d73-904a-8dc510dbe8e5",
   "metadata": {},
   "outputs": [
    {
     "data": {
      "text/plain": [
       "pandas.core.series.Series"
      ]
     },
     "execution_count": 31,
     "metadata": {},
     "output_type": "execute_result"
    }
   ],
   "source": [
    "type(s)"
   ]
  },
  {
   "cell_type": "code",
   "execution_count": 33,
   "id": "c66c6300-e739-4bc3-b881-9f4592a8c344",
   "metadata": {},
   "outputs": [
    {
     "name": "stdout",
     "output_type": "stream",
     "text": [
      "<class 'pandas.core.frame.DataFrame'>\n",
      "RangeIndex: 6 entries, 0 to 5\n",
      "Data columns (total 3 columns):\n",
      " #   Column  Non-Null Count  Dtype \n",
      "---  ------  --------------  ----- \n",
      " 0   nome    6 non-null      object\n",
      " 1   punti   6 non-null      int64 \n",
      " 2   sex     6 non-null      object\n",
      "dtypes: int64(1), object(2)\n",
      "memory usage: 272.0+ bytes\n"
     ]
    }
   ],
   "source": [
    "dati.info()"
   ]
  },
  {
   "cell_type": "code",
   "execution_count": 34,
   "id": "2a751697-2274-467f-a4db-23a6cfcfde8f",
   "metadata": {},
   "outputs": [
    {
     "data": {
      "text/html": [
       "<div>\n",
       "<style scoped>\n",
       "    .dataframe tbody tr th:only-of-type {\n",
       "        vertical-align: middle;\n",
       "    }\n",
       "\n",
       "    .dataframe tbody tr th {\n",
       "        vertical-align: top;\n",
       "    }\n",
       "\n",
       "    .dataframe thead th {\n",
       "        text-align: right;\n",
       "    }\n",
       "</style>\n",
       "<table border=\"1\" class=\"dataframe\">\n",
       "  <thead>\n",
       "    <tr style=\"text-align: right;\">\n",
       "      <th></th>\n",
       "      <th>punti</th>\n",
       "    </tr>\n",
       "  </thead>\n",
       "  <tbody>\n",
       "    <tr>\n",
       "      <th>count</th>\n",
       "      <td>6.000000</td>\n",
       "    </tr>\n",
       "    <tr>\n",
       "      <th>mean</th>\n",
       "      <td>266.666667</td>\n",
       "    </tr>\n",
       "    <tr>\n",
       "      <th>std</th>\n",
       "      <td>87.559504</td>\n",
       "    </tr>\n",
       "    <tr>\n",
       "      <th>min</th>\n",
       "      <td>150.000000</td>\n",
       "    </tr>\n",
       "    <tr>\n",
       "      <th>25%</th>\n",
       "      <td>212.500000</td>\n",
       "    </tr>\n",
       "    <tr>\n",
       "      <th>50%</th>\n",
       "      <td>275.000000</td>\n",
       "    </tr>\n",
       "    <tr>\n",
       "      <th>75%</th>\n",
       "      <td>300.000000</td>\n",
       "    </tr>\n",
       "    <tr>\n",
       "      <th>max</th>\n",
       "      <td>400.000000</td>\n",
       "    </tr>\n",
       "  </tbody>\n",
       "</table>\n",
       "</div>"
      ],
      "text/plain": [
       "            punti\n",
       "count    6.000000\n",
       "mean   266.666667\n",
       "std     87.559504\n",
       "min    150.000000\n",
       "25%    212.500000\n",
       "50%    275.000000\n",
       "75%    300.000000\n",
       "max    400.000000"
      ]
     },
     "execution_count": 34,
     "metadata": {},
     "output_type": "execute_result"
    }
   ],
   "source": [
    "dati.describe()"
   ]
  },
  {
   "cell_type": "code",
   "execution_count": null,
   "id": "fb0db910-9d1e-4c54-a1a4-a23cd08e764c",
   "metadata": {},
   "outputs": [],
   "source": []
  },
  {
   "cell_type": "code",
   "execution_count": null,
   "id": "486d60c7-ef1b-4aa3-97bf-675d0f1a4084",
   "metadata": {},
   "outputs": [],
   "source": []
  },
  {
   "cell_type": "code",
   "execution_count": null,
   "id": "8e6df226-181b-423a-9b18-dae9b3ee662c",
   "metadata": {},
   "outputs": [],
   "source": []
  }
 ],
 "metadata": {
  "kernelspec": {
   "display_name": "Python 3 (ipykernel)",
   "language": "python",
   "name": "python3"
  },
  "language_info": {
   "codemirror_mode": {
    "name": "ipython",
    "version": 3
   },
   "file_extension": ".py",
   "mimetype": "text/x-python",
   "name": "python",
   "nbconvert_exporter": "python",
   "pygments_lexer": "ipython3",
   "version": "3.10.13"
  }
 },
 "nbformat": 4,
 "nbformat_minor": 5
}
