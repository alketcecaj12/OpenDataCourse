{
 "cells": [
  {
   "cell_type": "code",
   "execution_count": 21,
   "id": "e5cd35b4-2b5c-4570-a116-3d942ef774be",
   "metadata": {},
   "outputs": [],
   "source": [
    "import pandas as pd"
   ]
  },
  {
   "cell_type": "code",
   "execution_count": 22,
   "id": "84b201a0-fccd-4646-96bf-4d88da32bb3c",
   "metadata": {},
   "outputs": [],
   "source": [
    "url = \"https://en.wikipedia.org/wiki/List_of_action_films_of_the_2020s\""
   ]
  },
  {
   "cell_type": "code",
   "execution_count": 23,
   "id": "223022ee-17a0-4e01-b8e1-c302d1fa8c6f",
   "metadata": {},
   "outputs": [],
   "source": [
    "data = pd.read_html(url)"
   ]
  },
  {
   "cell_type": "code",
   "execution_count": 24,
   "id": "03ffb714-a45f-43a0-9514-691bf3b63382",
   "metadata": {},
   "outputs": [
    {
     "data": {
      "text/plain": [
       "(66, 5)"
      ]
     },
     "execution_count": 24,
     "metadata": {},
     "output_type": "execute_result"
    }
   ],
   "source": [
    "df1 = data[1]\n",
    "df1.shape"
   ]
  },
  {
   "cell_type": "code",
   "execution_count": 25,
   "id": "ea4e9ecf-7226-41d3-bc71-37e170b2b54e",
   "metadata": {},
   "outputs": [
    {
     "data": {
      "text/plain": [
       "(60, 7)"
      ]
     },
     "execution_count": 25,
     "metadata": {},
     "output_type": "execute_result"
    }
   ],
   "source": [
    "df2 = data[2]\n",
    "df2.shape"
   ]
  },
  {
   "cell_type": "code",
   "execution_count": 26,
   "id": "e73650da-7321-4fa4-ad42-8d116a2985c3",
   "metadata": {},
   "outputs": [
    {
     "data": {
      "text/plain": [
       "(33, 7)"
      ]
     },
     "execution_count": 26,
     "metadata": {},
     "output_type": "execute_result"
    }
   ],
   "source": [
    "df3 = data[3]\n",
    "df3.shape"
   ]
  },
  {
   "cell_type": "code",
   "execution_count": 28,
   "id": "61b0dffd-4c3f-4f12-a3ae-ef5d9f5ec9ee",
   "metadata": {},
   "outputs": [],
   "source": [
    "final_data = pd.concat([df1, df2, df3], axis=0, join='outer')"
   ]
  },
  {
   "cell_type": "code",
   "execution_count": 29,
   "id": "20f4c075-73b3-4d30-9a46-d4d60ead3a64",
   "metadata": {},
   "outputs": [
    {
     "data": {
      "text/html": [
       "<div>\n",
       "<style scoped>\n",
       "    .dataframe tbody tr th:only-of-type {\n",
       "        vertical-align: middle;\n",
       "    }\n",
       "\n",
       "    .dataframe tbody tr th {\n",
       "        vertical-align: top;\n",
       "    }\n",
       "\n",
       "    .dataframe thead th {\n",
       "        text-align: right;\n",
       "    }\n",
       "</style>\n",
       "<table border=\"1\" class=\"dataframe\">\n",
       "  <thead>\n",
       "    <tr style=\"text-align: right;\">\n",
       "      <th></th>\n",
       "      <th>Title</th>\n",
       "      <th>Director</th>\n",
       "      <th>Cast</th>\n",
       "      <th>Country</th>\n",
       "      <th>Subgenre/notes</th>\n",
       "      <th>Unnamed: 5</th>\n",
       "      <th>Unnamed: 6</th>\n",
       "    </tr>\n",
       "  </thead>\n",
       "  <tbody>\n",
       "    <tr>\n",
       "      <th>0</th>\n",
       "      <td>7500</td>\n",
       "      <td>Patrick Vollrath</td>\n",
       "      <td>Joseph Gordon-Levitt, Aylin Tezel</td>\n",
       "      <td>Germany, Austria, United States</td>\n",
       "      <td>Action thriller[1]</td>\n",
       "      <td>NaN</td>\n",
       "      <td>NaN</td>\n",
       "    </tr>\n",
       "    <tr>\n",
       "      <th>1</th>\n",
       "      <td>Ala Vaikunthapurramuloo</td>\n",
       "      <td>Trivikram Srinivas</td>\n",
       "      <td>Allu Arjun, Pooja Hegde</td>\n",
       "      <td>India</td>\n",
       "      <td>Action drama[2]</td>\n",
       "      <td>NaN</td>\n",
       "      <td>NaN</td>\n",
       "    </tr>\n",
       "    <tr>\n",
       "      <th>2</th>\n",
       "      <td>Archenemy</td>\n",
       "      <td>Adam Egypt Mortimer</td>\n",
       "      <td>Joe Manganiello, Skylan Brooks, Zolee Griggs, ...</td>\n",
       "      <td>United States, United Kingdom</td>\n",
       "      <td>Superhero, mystery, thriller[3]</td>\n",
       "      <td>NaN</td>\n",
       "      <td>NaN</td>\n",
       "    </tr>\n",
       "    <tr>\n",
       "      <th>3</th>\n",
       "      <td>Asuraguru</td>\n",
       "      <td>A.Raajdheep</td>\n",
       "      <td>Vikram Prabhu, Mahima Nambiar, Subbaraju, Yogi...</td>\n",
       "      <td>India</td>\n",
       "      <td>Action thriller[4]</td>\n",
       "      <td>NaN</td>\n",
       "      <td>NaN</td>\n",
       "    </tr>\n",
       "    <tr>\n",
       "      <th>4</th>\n",
       "      <td>Aswathama</td>\n",
       "      <td>Ramana Teja</td>\n",
       "      <td>Naga Shourya, Mehreen Pirzada</td>\n",
       "      <td>India</td>\n",
       "      <td>Action thriller[5]</td>\n",
       "      <td>NaN</td>\n",
       "      <td>NaN</td>\n",
       "    </tr>\n",
       "    <tr>\n",
       "      <th>...</th>\n",
       "      <td>...</td>\n",
       "      <td>...</td>\n",
       "      <td>...</td>\n",
       "      <td>...</td>\n",
       "      <td>...</td>\n",
       "      <td>...</td>\n",
       "      <td>...</td>\n",
       "    </tr>\n",
       "    <tr>\n",
       "      <th>28</th>\n",
       "      <td>Thor: Love and Thunder</td>\n",
       "      <td>Taika Waititi</td>\n",
       "      <td>Chris Hemsworth, Tessa Thompson, Natalie Portm...</td>\n",
       "      <td>United States</td>\n",
       "      <td>Superhero, action, fantasy[146]</td>\n",
       "      <td>NaN</td>\n",
       "      <td>NaN</td>\n",
       "    </tr>\n",
       "    <tr>\n",
       "      <th>29</th>\n",
       "      <td>Top Gun: Maverick</td>\n",
       "      <td>Joseph Kosinski</td>\n",
       "      <td>Tom Cruise, Miles Teller, Jennifer Connelly, J...</td>\n",
       "      <td>United States</td>\n",
       "      <td>Action, drama[147]</td>\n",
       "      <td>NaN</td>\n",
       "      <td>NaN</td>\n",
       "    </tr>\n",
       "    <tr>\n",
       "      <th>30</th>\n",
       "      <td>Uncharted</td>\n",
       "      <td>Ruben Fleischer</td>\n",
       "      <td>Tom Holland, Mark Wahlberg, Antonio Banderas, ...</td>\n",
       "      <td>United States</td>\n",
       "      <td>Action adventure[148]</td>\n",
       "      <td>NaN</td>\n",
       "      <td>NaN</td>\n",
       "    </tr>\n",
       "    <tr>\n",
       "      <th>31</th>\n",
       "      <td>Vikrant Rona</td>\n",
       "      <td>Anup Bhandari</td>\n",
       "      <td>Sudeepa, Milana Nagaraj, Nirup Bhandari, Neeth...</td>\n",
       "      <td>India</td>\n",
       "      <td>Action thriller[149]</td>\n",
       "      <td>NaN</td>\n",
       "      <td>NaN</td>\n",
       "    </tr>\n",
       "    <tr>\n",
       "      <th>32</th>\n",
       "      <td>Violent Night</td>\n",
       "      <td>Tommy Wirkola</td>\n",
       "      <td>David Harbour, John Leguizamo, Beverly D'Angel...</td>\n",
       "      <td>United States</td>\n",
       "      <td>Holiday action thriller[150]</td>\n",
       "      <td>NaN</td>\n",
       "      <td>NaN</td>\n",
       "    </tr>\n",
       "  </tbody>\n",
       "</table>\n",
       "<p>159 rows × 7 columns</p>\n",
       "</div>"
      ],
      "text/plain": [
       "                      Title             Director  \\\n",
       "0                      7500     Patrick Vollrath   \n",
       "1   Ala Vaikunthapurramuloo   Trivikram Srinivas   \n",
       "2                 Archenemy  Adam Egypt Mortimer   \n",
       "3                 Asuraguru          A.Raajdheep   \n",
       "4                 Aswathama          Ramana Teja   \n",
       "..                      ...                  ...   \n",
       "28   Thor: Love and Thunder        Taika Waititi   \n",
       "29        Top Gun: Maverick      Joseph Kosinski   \n",
       "30                Uncharted      Ruben Fleischer   \n",
       "31             Vikrant Rona        Anup Bhandari   \n",
       "32            Violent Night        Tommy Wirkola   \n",
       "\n",
       "                                                 Cast  \\\n",
       "0                   Joseph Gordon-Levitt, Aylin Tezel   \n",
       "1                             Allu Arjun, Pooja Hegde   \n",
       "2   Joe Manganiello, Skylan Brooks, Zolee Griggs, ...   \n",
       "3   Vikram Prabhu, Mahima Nambiar, Subbaraju, Yogi...   \n",
       "4                       Naga Shourya, Mehreen Pirzada   \n",
       "..                                                ...   \n",
       "28  Chris Hemsworth, Tessa Thompson, Natalie Portm...   \n",
       "29  Tom Cruise, Miles Teller, Jennifer Connelly, J...   \n",
       "30  Tom Holland, Mark Wahlberg, Antonio Banderas, ...   \n",
       "31  Sudeepa, Milana Nagaraj, Nirup Bhandari, Neeth...   \n",
       "32  David Harbour, John Leguizamo, Beverly D'Angel...   \n",
       "\n",
       "                            Country                   Subgenre/notes  \\\n",
       "0   Germany, Austria, United States               Action thriller[1]   \n",
       "1                             India                  Action drama[2]   \n",
       "2     United States, United Kingdom  Superhero, mystery, thriller[3]   \n",
       "3                             India               Action thriller[4]   \n",
       "4                             India               Action thriller[5]   \n",
       "..                              ...                              ...   \n",
       "28                    United States  Superhero, action, fantasy[146]   \n",
       "29                    United States               Action, drama[147]   \n",
       "30                    United States            Action adventure[148]   \n",
       "31                            India             Action thriller[149]   \n",
       "32                    United States     Holiday action thriller[150]   \n",
       "\n",
       "    Unnamed: 5  Unnamed: 6  \n",
       "0          NaN         NaN  \n",
       "1          NaN         NaN  \n",
       "2          NaN         NaN  \n",
       "3          NaN         NaN  \n",
       "4          NaN         NaN  \n",
       "..         ...         ...  \n",
       "28         NaN         NaN  \n",
       "29         NaN         NaN  \n",
       "30         NaN         NaN  \n",
       "31         NaN         NaN  \n",
       "32         NaN         NaN  \n",
       "\n",
       "[159 rows x 7 columns]"
      ]
     },
     "execution_count": 29,
     "metadata": {},
     "output_type": "execute_result"
    }
   ],
   "source": [
    "final_data"
   ]
  },
  {
   "cell_type": "code",
   "execution_count": null,
   "id": "755f090c-5384-4049-9fdb-757545ac3dbf",
   "metadata": {},
   "outputs": [],
   "source": []
  }
 ],
 "metadata": {
  "kernelspec": {
   "display_name": "Python 3 (ipykernel)",
   "language": "python",
   "name": "python3"
  },
  "language_info": {
   "codemirror_mode": {
    "name": "ipython",
    "version": 3
   },
   "file_extension": ".py",
   "mimetype": "text/x-python",
   "name": "python",
   "nbconvert_exporter": "python",
   "pygments_lexer": "ipython3",
   "version": "3.10.13"
  }
 },
 "nbformat": 4,
 "nbformat_minor": 5
}
