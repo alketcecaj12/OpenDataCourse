{
 "cells": [
  {
   "cell_type": "code",
   "execution_count": 21,
   "id": "e5cd35b4-2b5c-4570-a116-3d942ef774be",
   "metadata": {},
   "outputs": [],
   "source": [
    "import pandas as pd"
   ]
  },
  {
   "cell_type": "code",
   "execution_count": 33,
   "id": "84b201a0-fccd-4646-96bf-4d88da32bb3c",
   "metadata": {},
   "outputs": [],
   "source": [
    "url = \"https://en.wikipedia.org/wiki/List_of_action_films_of_the_2010s\""
   ]
  },
  {
   "cell_type": "code",
   "execution_count": 34,
   "id": "223022ee-17a0-4e01-b8e1-c302d1fa8c6f",
   "metadata": {},
   "outputs": [],
   "source": [
    "data = pd.read_html(url)"
   ]
  },
  {
   "cell_type": "code",
   "execution_count": 35,
   "id": "03ffb714-a45f-43a0-9514-691bf3b63382",
   "metadata": {},
   "outputs": [
    {
     "data": {
      "text/plain": [
       "(78, 7)"
      ]
     },
     "execution_count": 35,
     "metadata": {},
     "output_type": "execute_result"
    }
   ],
   "source": [
    "df1 = data[1]\n",
    "df1.shape"
   ]
  },
  {
   "cell_type": "code",
   "execution_count": 36,
   "id": "ea4e9ecf-7226-41d3-bc71-37e170b2b54e",
   "metadata": {},
   "outputs": [
    {
     "data": {
      "text/plain": [
       "(70, 7)"
      ]
     },
     "execution_count": 36,
     "metadata": {},
     "output_type": "execute_result"
    }
   ],
   "source": [
    "df2 = data[2]\n",
    "df2.shape"
   ]
  },
  {
   "cell_type": "code",
   "execution_count": 37,
   "id": "e73650da-7321-4fa4-ad42-8d116a2985c3",
   "metadata": {},
   "outputs": [
    {
     "data": {
      "text/plain": [
       "(53, 7)"
      ]
     },
     "execution_count": 37,
     "metadata": {},
     "output_type": "execute_result"
    }
   ],
   "source": [
    "df3 = data[3]\n",
    "df3.shape"
   ]
  },
  {
   "cell_type": "code",
   "execution_count": 38,
   "id": "95dd50ee-9c9f-4fb9-87c1-dc79afc629bb",
   "metadata": {},
   "outputs": [
    {
     "data": {
      "text/plain": [
       "(66, 7)"
      ]
     },
     "execution_count": 38,
     "metadata": {},
     "output_type": "execute_result"
    }
   ],
   "source": [
    "df4 = data[4]\n",
    "df4.shape"
   ]
  },
  {
   "cell_type": "code",
   "execution_count": 39,
   "id": "61b0dffd-4c3f-4f12-a3ae-ef5d9f5ec9ee",
   "metadata": {},
   "outputs": [],
   "source": [
    "final_data = pd.concat([df1, df2, df3, df4], axis=0, join='outer')"
   ]
  },
  {
   "cell_type": "code",
   "execution_count": 40,
   "id": "20f4c075-73b3-4d30-9a46-d4d60ead3a64",
   "metadata": {},
   "outputs": [
    {
     "data": {
      "text/html": [
       "<div>\n",
       "<style scoped>\n",
       "    .dataframe tbody tr th:only-of-type {\n",
       "        vertical-align: middle;\n",
       "    }\n",
       "\n",
       "    .dataframe tbody tr th {\n",
       "        vertical-align: top;\n",
       "    }\n",
       "\n",
       "    .dataframe thead th {\n",
       "        text-align: right;\n",
       "    }\n",
       "</style>\n",
       "<table border=\"1\" class=\"dataframe\">\n",
       "  <thead>\n",
       "    <tr style=\"text-align: right;\">\n",
       "      <th></th>\n",
       "      <th>Title</th>\n",
       "      <th>Director</th>\n",
       "      <th>Cast</th>\n",
       "      <th>Country</th>\n",
       "      <th>Subgenre/notes</th>\n",
       "      <th>Unnamed: 5</th>\n",
       "      <th>Unnamed: 6</th>\n",
       "    </tr>\n",
       "  </thead>\n",
       "  <tbody>\n",
       "    <tr>\n",
       "      <th>0</th>\n",
       "      <td>2010</td>\n",
       "      <td>2010</td>\n",
       "      <td>2010</td>\n",
       "      <td>2010</td>\n",
       "      <td>2010</td>\n",
       "      <td>2010.0</td>\n",
       "      <td>2010.0</td>\n",
       "    </tr>\n",
       "    <tr>\n",
       "      <th>1</th>\n",
       "      <td>13 Assassins</td>\n",
       "      <td>Takashi Miike</td>\n",
       "      <td>Kōji Yakusho, Takayuki Yamada, Yusuke Iseya</td>\n",
       "      <td>Japan</td>\n",
       "      <td>Martial arts[1]</td>\n",
       "      <td>NaN</td>\n",
       "      <td>NaN</td>\n",
       "    </tr>\n",
       "    <tr>\n",
       "      <th>2</th>\n",
       "      <td>14 Blades</td>\n",
       "      <td>Daniel Lee</td>\n",
       "      <td>Donnie Yen, Zhao Wei, Wu Chun</td>\n",
       "      <td>China Hong Kong</td>\n",
       "      <td>Martial arts[2]</td>\n",
       "      <td>NaN</td>\n",
       "      <td>NaN</td>\n",
       "    </tr>\n",
       "    <tr>\n",
       "      <th>3</th>\n",
       "      <td>22 Bullets</td>\n",
       "      <td>Richard Berry</td>\n",
       "      <td>Jean Reno, Kad Merad, Richard Berry</td>\n",
       "      <td>France</td>\n",
       "      <td>Action thriller</td>\n",
       "      <td>NaN</td>\n",
       "      <td>NaN</td>\n",
       "    </tr>\n",
       "    <tr>\n",
       "      <th>4</th>\n",
       "      <td>Alien vs Ninja</td>\n",
       "      <td>Seiji Chiba</td>\n",
       "      <td>Masanori Mimoto, Mika Hijii, Shuji Kashiwabara</td>\n",
       "      <td>Japan</td>\n",
       "      <td>[3][4]</td>\n",
       "      <td>NaN</td>\n",
       "      <td>NaN</td>\n",
       "    </tr>\n",
       "    <tr>\n",
       "      <th>...</th>\n",
       "      <td>...</td>\n",
       "      <td>...</td>\n",
       "      <td>...</td>\n",
       "      <td>...</td>\n",
       "      <td>...</td>\n",
       "      <td>...</td>\n",
       "      <td>...</td>\n",
       "    </tr>\n",
       "    <tr>\n",
       "      <th>61</th>\n",
       "      <td>White House Down</td>\n",
       "      <td>Roland Emmerich</td>\n",
       "      <td>Channing Tatum, Jamie Foxx, Maggie Gyllenhaal</td>\n",
       "      <td>United States</td>\n",
       "      <td>[231]</td>\n",
       "      <td>NaN</td>\n",
       "      <td>NaN</td>\n",
       "    </tr>\n",
       "    <tr>\n",
       "      <th>62</th>\n",
       "      <td>The White Storm</td>\n",
       "      <td>Benny Chan</td>\n",
       "      <td>Sean Lau, Louis Koo, Nick Cheung</td>\n",
       "      <td>Hong Kong China</td>\n",
       "      <td>Action thriller</td>\n",
       "      <td>NaN</td>\n",
       "      <td>NaN</td>\n",
       "    </tr>\n",
       "    <tr>\n",
       "      <th>63</th>\n",
       "      <td>The Wolverine</td>\n",
       "      <td>James Mangold</td>\n",
       "      <td>Hugh Jackman, Will Yun Lee, Rila Fukushima</td>\n",
       "      <td>United States United Kingdom</td>\n",
       "      <td>[232]</td>\n",
       "      <td>NaN</td>\n",
       "      <td>NaN</td>\n",
       "    </tr>\n",
       "    <tr>\n",
       "      <th>64</th>\n",
       "      <td>World War Z</td>\n",
       "      <td>Marc Forster</td>\n",
       "      <td>Brad Pitt, Mireille Enos, Matthew Fox</td>\n",
       "      <td>United States United Kingdom</td>\n",
       "      <td>[233]</td>\n",
       "      <td>NaN</td>\n",
       "      <td>NaN</td>\n",
       "    </tr>\n",
       "    <tr>\n",
       "      <th>65</th>\n",
       "      <td>The Wrath of Vajra</td>\n",
       "      <td>Law Wing-Cheung</td>\n",
       "      <td>Xing Yu, Yoo Seung-jun, Nam Hyun-joon</td>\n",
       "      <td>China</td>\n",
       "      <td>Martial arts film</td>\n",
       "      <td>NaN</td>\n",
       "      <td>NaN</td>\n",
       "    </tr>\n",
       "  </tbody>\n",
       "</table>\n",
       "<p>267 rows × 7 columns</p>\n",
       "</div>"
      ],
      "text/plain": [
       "                 Title         Director  \\\n",
       "0                 2010             2010   \n",
       "1         13 Assassins    Takashi Miike   \n",
       "2            14 Blades       Daniel Lee   \n",
       "3           22 Bullets    Richard Berry   \n",
       "4       Alien vs Ninja      Seiji Chiba   \n",
       "..                 ...              ...   \n",
       "61    White House Down  Roland Emmerich   \n",
       "62     The White Storm       Benny Chan   \n",
       "63       The Wolverine    James Mangold   \n",
       "64         World War Z     Marc Forster   \n",
       "65  The Wrath of Vajra  Law Wing-Cheung   \n",
       "\n",
       "                                              Cast  \\\n",
       "0                                             2010   \n",
       "1      Kōji Yakusho, Takayuki Yamada, Yusuke Iseya   \n",
       "2                    Donnie Yen, Zhao Wei, Wu Chun   \n",
       "3              Jean Reno, Kad Merad, Richard Berry   \n",
       "4   Masanori Mimoto, Mika Hijii, Shuji Kashiwabara   \n",
       "..                                             ...   \n",
       "61   Channing Tatum, Jamie Foxx, Maggie Gyllenhaal   \n",
       "62                Sean Lau, Louis Koo, Nick Cheung   \n",
       "63      Hugh Jackman, Will Yun Lee, Rila Fukushima   \n",
       "64           Brad Pitt, Mireille Enos, Matthew Fox   \n",
       "65           Xing Yu, Yoo Seung-jun, Nam Hyun-joon   \n",
       "\n",
       "                         Country     Subgenre/notes  Unnamed: 5  Unnamed: 6  \n",
       "0                           2010               2010      2010.0      2010.0  \n",
       "1                          Japan    Martial arts[1]         NaN         NaN  \n",
       "2                China Hong Kong    Martial arts[2]         NaN         NaN  \n",
       "3                         France    Action thriller         NaN         NaN  \n",
       "4                          Japan             [3][4]         NaN         NaN  \n",
       "..                           ...                ...         ...         ...  \n",
       "61                 United States              [231]         NaN         NaN  \n",
       "62               Hong Kong China    Action thriller         NaN         NaN  \n",
       "63  United States United Kingdom              [232]         NaN         NaN  \n",
       "64  United States United Kingdom              [233]         NaN         NaN  \n",
       "65                         China  Martial arts film         NaN         NaN  \n",
       "\n",
       "[267 rows x 7 columns]"
      ]
     },
     "execution_count": 40,
     "metadata": {},
     "output_type": "execute_result"
    }
   ],
   "source": [
    "final_data"
   ]
  },
  {
   "cell_type": "code",
   "execution_count": null,
   "id": "755f090c-5384-4049-9fdb-757545ac3dbf",
   "metadata": {},
   "outputs": [],
   "source": []
  },
  {
   "cell_type": "code",
   "execution_count": null,
   "id": "7a31d820-2238-436a-b120-eb3059163a16",
   "metadata": {},
   "outputs": [],
   "source": []
  }
 ],
 "metadata": {
  "kernelspec": {
   "display_name": "Python 3 (ipykernel)",
   "language": "python",
   "name": "python3"
  },
  "language_info": {
   "codemirror_mode": {
    "name": "ipython",
    "version": 3
   },
   "file_extension": ".py",
   "mimetype": "text/x-python",
   "name": "python",
   "nbconvert_exporter": "python",
   "pygments_lexer": "ipython3",
   "version": "3.10.13"
  }
 },
 "nbformat": 4,
 "nbformat_minor": 5
}
