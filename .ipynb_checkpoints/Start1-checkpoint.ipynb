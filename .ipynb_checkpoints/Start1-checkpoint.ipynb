{
 "cells": [
  {
   "cell_type": "code",
   "execution_count": 3,
   "id": "7bfb4915-7c83-4a9f-bc09-7cabe04ad2d1",
   "metadata": {},
   "outputs": [],
   "source": [
    "import pandas as pd"
   ]
  },
  {
   "cell_type": "code",
   "execution_count": 4,
   "id": "48db3a0c-9135-4676-ae27-35c88cd62d66",
   "metadata": {},
   "outputs": [],
   "source": [
    "nomi = ['Alket', 'Simone', 'Francesco', 'Paolo']\n",
    "score = [200,     300,      150,        250]"
   ]
  },
  {
   "cell_type": "code",
   "execution_count": 10,
   "id": "21a2f292-e5c5-47a2-8c08-e72080492bdf",
   "metadata": {},
   "outputs": [],
   "source": [
    "giochi = {\"nome\":nomi, \"punti\": score}"
   ]
  },
  {
   "cell_type": "code",
   "execution_count": 11,
   "id": "d007ad0d-9e75-4518-9852-9ddce9f55a85",
   "metadata": {},
   "outputs": [
    {
     "data": {
      "text/plain": [
       "['Alket', 'Simone', 'Francesco', 'Paolo']"
      ]
     },
     "execution_count": 11,
     "metadata": {},
     "output_type": "execute_result"
    }
   ],
   "source": [
    "giochi[\"nome\"]"
   ]
  },
  {
   "cell_type": "code",
   "execution_count": 13,
   "id": "be37cf64-cd9d-48de-ac13-a9e92aa1a38f",
   "metadata": {},
   "outputs": [],
   "source": [
    "dati = pd.DataFrame(giochi)"
   ]
  },
  {
   "cell_type": "code",
   "execution_count": 14,
   "id": "9c7401c0-b632-4c4c-89e3-3c08418b7923",
   "metadata": {},
   "outputs": [
    {
     "data": {
      "text/html": [
       "<div>\n",
       "<style scoped>\n",
       "    .dataframe tbody tr th:only-of-type {\n",
       "        vertical-align: middle;\n",
       "    }\n",
       "\n",
       "    .dataframe tbody tr th {\n",
       "        vertical-align: top;\n",
       "    }\n",
       "\n",
       "    .dataframe thead th {\n",
       "        text-align: right;\n",
       "    }\n",
       "</style>\n",
       "<table border=\"1\" class=\"dataframe\">\n",
       "  <thead>\n",
       "    <tr style=\"text-align: right;\">\n",
       "      <th></th>\n",
       "      <th>nome</th>\n",
       "      <th>punti</th>\n",
       "    </tr>\n",
       "  </thead>\n",
       "  <tbody>\n",
       "    <tr>\n",
       "      <th>0</th>\n",
       "      <td>Alket</td>\n",
       "      <td>200</td>\n",
       "    </tr>\n",
       "    <tr>\n",
       "      <th>1</th>\n",
       "      <td>Simone</td>\n",
       "      <td>300</td>\n",
       "    </tr>\n",
       "    <tr>\n",
       "      <th>2</th>\n",
       "      <td>Francesco</td>\n",
       "      <td>150</td>\n",
       "    </tr>\n",
       "    <tr>\n",
       "      <th>3</th>\n",
       "      <td>Paolo</td>\n",
       "      <td>250</td>\n",
       "    </tr>\n",
       "  </tbody>\n",
       "</table>\n",
       "</div>"
      ],
      "text/plain": [
       "        nome  punti\n",
       "0      Alket    200\n",
       "1     Simone    300\n",
       "2  Francesco    150\n",
       "3      Paolo    250"
      ]
     },
     "execution_count": 14,
     "metadata": {},
     "output_type": "execute_result"
    }
   ],
   "source": [
    "dati"
   ]
  },
  {
   "cell_type": "code",
   "execution_count": null,
   "id": "f2a2d1ea-e980-42cd-a1f8-8f53c1d1a915",
   "metadata": {},
   "outputs": [],
   "source": []
  },
  {
   "cell_type": "code",
   "execution_count": null,
   "id": "2b375674-6d9e-4d73-904a-8dc510dbe8e5",
   "metadata": {},
   "outputs": [],
   "source": []
  },
  {
   "cell_type": "code",
   "execution_count": null,
   "id": "c66c6300-e739-4bc3-b881-9f4592a8c344",
   "metadata": {},
   "outputs": [],
   "source": []
  }
 ],
 "metadata": {
  "kernelspec": {
   "display_name": "Python 3 (ipykernel)",
   "language": "python",
   "name": "python3"
  },
  "language_info": {
   "codemirror_mode": {
    "name": "ipython",
    "version": 3
   },
   "file_extension": ".py",
   "mimetype": "text/x-python",
   "name": "python",
   "nbconvert_exporter": "python",
   "pygments_lexer": "ipython3",
   "version": "3.10.13"
  }
 },
 "nbformat": 4,
 "nbformat_minor": 5
}
