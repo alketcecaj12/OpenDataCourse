{
 "cells": [
  {
   "cell_type": "markdown",
   "id": "8ef12393-070e-40f2-a968-de8a9c9120cd",
   "metadata": {},
   "source": [
    "### Understanding the Variance Inflation Factor (VIF) Formula\n",
    "In the Variance Inflation Factor (VIF) method, we assess the degree of multicollinearity by selecting each feature and regressing it against all other features in the model. This process calculates how much the variance of a regression coefficient is inflated due to the correlations between independent variables."
   ]
  },
  {
   "cell_type": "markdown",
   "id": "34529e58-1764-44e0-906f-5a1a49425346",
   "metadata": {},
   "source": [
    "### Detect Multicollinearity Using VIF in Python\n",
    "To detect multicollinearity in regression analysis, we can implement the Variance Inflation Factor (VIF) using the statsmodels library. The statsmodels package provides a function named variance_inflation_factor() for calculating VIF that helps calculate the VIF for each feature in the dataset, indicating the presence of multicollinearity."
   ]
  },
  {
   "cell_type": "code",
   "execution_count": null,
   "id": "80010a0b-5281-4944-935e-a6a53b6e298f",
   "metadata": {},
   "outputs": [],
   "source": [
    "import pandas as pd"
   ]
  },
  {
   "cell_type": "code",
   "execution_count": 19,
   "id": "d7d44144-2f1a-4813-8e26-604ac8454e3e",
   "metadata": {},
   "outputs": [],
   "source": [
    "data = pd.read_csv(\"multicollinearityData.csv\")"
   ]
  },
  {
   "cell_type": "code",
   "execution_count": 20,
   "id": "3ed00ea8-0148-4cc2-8caf-67a27d17b5f4",
   "metadata": {},
   "outputs": [
    {
     "name": "stdout",
     "output_type": "stream",
     "text": [
      "  feature         VIF\n",
      "0  Gender    3.356134\n",
      "1  Height  110.299040\n",
      "2  Weight  128.348298\n"
     ]
    }
   ],
   "source": [
    "from statsmodels.stats.outliers_influence import variance_inflation_factor\n",
    "\n",
    "# creating dummies for gender\n",
    "data['Gender'] = data['Gender'].map({'Male':0, 'Female':1})\n",
    "\n",
    "# the independent variables set\n",
    "X = data[['Gender', 'Height', 'Weight']]\n",
    "\n",
    "# VIF dataframe\n",
    "vif_data = pd.DataFrame()\n",
    "vif_data[\"feature\"] = X.columns\n",
    "\n",
    "# calculating VIF for each feature\n",
    "vif_data[\"VIF\"] = [variance_inflation_factor(X.values, i)\n",
    "                          for i in range(len(X.columns))]\n",
    "\n",
    "print(vif_data)"
   ]
  },
  {
   "cell_type": "code",
   "execution_count": null,
   "id": "0e9babeb-c27a-4a1c-8b61-96133497ae19",
   "metadata": {},
   "outputs": [],
   "source": []
  },
  {
   "cell_type": "code",
   "execution_count": null,
   "id": "9250ed7d-7c4b-4133-a4d8-a9e82f439cc7",
   "metadata": {},
   "outputs": [],
   "source": []
  },
  {
   "cell_type": "code",
   "execution_count": null,
   "id": "18e0a62d-831a-44ff-950e-f0150ddd6ea6",
   "metadata": {},
   "outputs": [],
   "source": []
  },
  {
   "cell_type": "code",
   "execution_count": null,
   "id": "9125d560-e559-4526-aded-b0b524ebbc03",
   "metadata": {},
   "outputs": [],
   "source": []
  },
  {
   "cell_type": "code",
   "execution_count": null,
   "id": "29882afd-a1e3-4bdd-9fe0-aa7a8f94d126",
   "metadata": {},
   "outputs": [],
   "source": []
  },
  {
   "cell_type": "code",
   "execution_count": null,
   "id": "ac0b9d7d-a515-4972-b387-0da5687d1dbe",
   "metadata": {},
   "outputs": [],
   "source": []
  },
  {
   "cell_type": "code",
   "execution_count": null,
   "id": "ddeb7ec2-3adc-4edb-88bc-da6fbef737bd",
   "metadata": {},
   "outputs": [],
   "source": []
  },
  {
   "cell_type": "code",
   "execution_count": null,
   "id": "0d162940-1dbd-4401-a0aa-efbd49b039d4",
   "metadata": {},
   "outputs": [],
   "source": []
  }
 ],
 "metadata": {
  "kernelspec": {
   "display_name": "Python 3 (ipykernel)",
   "language": "python",
   "name": "python3"
  },
  "language_info": {
   "codemirror_mode": {
    "name": "ipython",
    "version": 3
   },
   "file_extension": ".py",
   "mimetype": "text/x-python",
   "name": "python",
   "nbconvert_exporter": "python",
   "pygments_lexer": "ipython3",
   "version": "3.10.13"
  }
 },
 "nbformat": 4,
 "nbformat_minor": 5
}
