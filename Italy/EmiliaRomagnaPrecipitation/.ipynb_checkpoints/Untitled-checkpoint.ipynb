{
 "cells": [
  {
   "cell_type": "markdown",
   "id": "d312584c-e0af-4f99-a9e9-53d89027f08b",
   "metadata": {},
   "source": [
    "### Precipitaion data in Emilia Romagna, Italy!"
   ]
  },
  {
   "cell_type": "code",
   "execution_count": 6,
   "id": "62b9750b-bf59-4314-accc-703ce343cff2",
   "metadata": {},
   "outputs": [],
   "source": [
    "import requests\n",
    "import zipfile, urllib.request, shutil\n",
    "import os\n",
    "import io\n",
    "import pandas as pd"
   ]
  },
  {
   "cell_type": "code",
   "execution_count": 7,
   "id": "748646a6-e51f-4509-a341-fac36f30aa7d",
   "metadata": {},
   "outputs": [],
   "source": [
    "cells = pd.read_excel(\"DataUtil/Erg5_Eraclito_structure.xlsx\")\n",
    "cells.Code = cells.Code.astype(int)"
   ]
  },
  {
   "cell_type": "code",
   "execution_count": 8,
   "id": "5465c07b-2015-4742-aa3b-dacbfef2c3f2",
   "metadata": {},
   "outputs": [],
   "source": [
    "def fix_cells(i):\n",
    "    return \"{:0>5}\".format(i)\n",
    "        \n",
    "cells[\"Code2\"] = cells.Code.apply(lambda x: fix_cells(x))  "
   ]
  },
  {
   "cell_type": "code",
   "execution_count": null,
   "id": "7305cf7b-43d2-45a3-a8ce-4affcd9dca4d",
   "metadata": {},
   "outputs": [],
   "source": [
    "for cell in cells.Code2:\n",
    "    \n",
    "    url = \"https://dati-simc.arpae.it/opendata/eraclito/timeseries/\"\n",
    "   \n",
    "    for year in range(1961, 2024):\n",
    "        cell_url = str(cell) + \"/\" + str(cell) + \"_\"\n",
    "        new_url = url + cell_url + str(year) + \".zip\"\n",
    "      \n",
    "        local_file_path = os.getcwd() + \"/\" + str(cell) + \"/\" + str(year) + \".zip\"\n",
    "       \n",
    "        data_path = os.getcwd() + \"/\" + str(cell) + \"/\"\n",
    "\n",
    "        # Create the directory if it doesn't exist\n",
    "        os.makedirs(data_path, exist_ok=True)\n",
    "\n",
    "        # Download the zip file from the URL\n",
    "        response = requests.get(new_url, stream=True)\n",
    "\n",
    "        # Check if the request was successful\n",
    "        if response.status_code == 200:\n",
    "            with open(local_file_path, 'wb') as file:\n",
    "                # Save the zip file locally\n",
    "                response.raw.decode_content = True\n",
    "                shutil.copyfileobj(response.raw, file)\n",
    "\n",
    "            with zipfile.ZipFile(local_file_path, 'r') as zip_file:\n",
    "                zip_file.extractall(data_path)"
   ]
  },
  {
   "cell_type": "code",
   "execution_count": null,
   "id": "424d6030-e982-44b7-bd9c-e2d280610315",
   "metadata": {},
   "outputs": [],
   "source": []
  },
  {
   "cell_type": "code",
   "execution_count": null,
   "id": "7b12262c-cd21-4d2f-b7e3-efcd174e2cd0",
   "metadata": {},
   "outputs": [],
   "source": []
  },
  {
   "cell_type": "code",
   "execution_count": null,
   "id": "291804b3-5596-490f-bf12-60a9615ef17e",
   "metadata": {},
   "outputs": [],
   "source": []
  },
  {
   "cell_type": "code",
   "execution_count": null,
   "id": "846df273-a322-4e93-8d61-80e342a3a1a4",
   "metadata": {},
   "outputs": [],
   "source": []
  },
  {
   "cell_type": "code",
   "execution_count": null,
   "id": "8b1e315e-637a-4153-9fc9-8d80614d3cba",
   "metadata": {},
   "outputs": [],
   "source": []
  },
  {
   "cell_type": "code",
   "execution_count": null,
   "id": "f9e2d65a-a6f9-48fd-9d3b-22470acc9a45",
   "metadata": {},
   "outputs": [],
   "source": []
  }
 ],
 "metadata": {
  "kernelspec": {
   "display_name": "Python 3 (ipykernel)",
   "language": "python",
   "name": "python3"
  },
  "language_info": {
   "codemirror_mode": {
    "name": "ipython",
    "version": 3
   },
   "file_extension": ".py",
   "mimetype": "text/x-python",
   "name": "python",
   "nbconvert_exporter": "python",
   "pygments_lexer": "ipython3",
   "version": "3.10.13"
  }
 },
 "nbformat": 4,
 "nbformat_minor": 5
}
